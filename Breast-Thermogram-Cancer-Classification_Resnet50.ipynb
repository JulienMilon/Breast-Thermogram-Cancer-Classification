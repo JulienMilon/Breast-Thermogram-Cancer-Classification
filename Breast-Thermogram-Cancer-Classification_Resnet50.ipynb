{
 "cells": [
  {
   "cell_type": "code",
   "execution_count": 1,
   "metadata": {},
   "outputs": [
    {
     "ename": "RuntimeError",
     "evalue": "KeyboardInterrupt: ",
     "output_type": "error",
     "traceback": [
      "\u001b[0;31m---------------------------------------------------------------------------\u001b[0m",
      "\u001b[0;31mRuntimeError\u001b[0m                              Traceback (most recent call last)",
      "\u001b[0;32m<ipython-input-1-756ae655a2b0>\u001b[0m in \u001b[0;36m<module>\u001b[0;34m\u001b[0m\n\u001b[1;32m      3\u001b[0m \u001b[0mos\u001b[0m\u001b[0;34m.\u001b[0m\u001b[0menviron\u001b[0m\u001b[0;34m[\u001b[0m\u001b[0;34m'CUDA_LAUNCH_BLOCKING'\u001b[0m\u001b[0;34m]\u001b[0m \u001b[0;34m=\u001b[0m \u001b[0;34m'1'\u001b[0m\u001b[0;34m\u001b[0m\u001b[0;34m\u001b[0m\u001b[0m\n\u001b[1;32m      4\u001b[0m \u001b[0;31m# Import libabries\u001b[0m\u001b[0;34m\u001b[0m\u001b[0;34m\u001b[0m\u001b[0;34m\u001b[0m\u001b[0m\n\u001b[0;32m----> 5\u001b[0;31m \u001b[0;32mimport\u001b[0m \u001b[0mtorch\u001b[0m\u001b[0;34m\u001b[0m\u001b[0;34m\u001b[0m\u001b[0m\n\u001b[0m\u001b[1;32m      6\u001b[0m \u001b[0;32mimport\u001b[0m \u001b[0mtorch\u001b[0m\u001b[0;34m.\u001b[0m\u001b[0mnn\u001b[0m \u001b[0;32mas\u001b[0m \u001b[0mnn\u001b[0m\u001b[0;34m\u001b[0m\u001b[0;34m\u001b[0m\u001b[0m\n\u001b[1;32m      7\u001b[0m \u001b[0;32mimport\u001b[0m \u001b[0mtorch\u001b[0m\u001b[0;34m.\u001b[0m\u001b[0moptim\u001b[0m \u001b[0;32mas\u001b[0m \u001b[0moptim\u001b[0m\u001b[0;34m\u001b[0m\u001b[0;34m\u001b[0m\u001b[0m\n",
      "\u001b[0;32m~/miniforge3/envs/jupyter/lib/python3.6/site-packages/torch/__init__.py\u001b[0m in \u001b[0;36m<module>\u001b[0;34m\u001b[0m\n\u001b[1;32m    195\u001b[0m     \u001b[0;32mif\u001b[0m \u001b[0mUSE_GLOBAL_DEPS\u001b[0m\u001b[0;34m:\u001b[0m\u001b[0;34m\u001b[0m\u001b[0;34m\u001b[0m\u001b[0m\n\u001b[1;32m    196\u001b[0m         \u001b[0m_load_global_deps\u001b[0m\u001b[0;34m(\u001b[0m\u001b[0;34m)\u001b[0m\u001b[0;34m\u001b[0m\u001b[0;34m\u001b[0m\u001b[0m\n\u001b[0;32m--> 197\u001b[0;31m     \u001b[0;32mfrom\u001b[0m \u001b[0mtorch\u001b[0m\u001b[0;34m.\u001b[0m\u001b[0m_C\u001b[0m \u001b[0;32mimport\u001b[0m \u001b[0;34m*\u001b[0m  \u001b[0;31m# noqa: F403\u001b[0m\u001b[0;34m\u001b[0m\u001b[0;34m\u001b[0m\u001b[0m\n\u001b[0m\u001b[1;32m    198\u001b[0m \u001b[0;34m\u001b[0m\u001b[0m\n\u001b[1;32m    199\u001b[0m \u001b[0;31m# Appease the type checker; ordinarily this binding is inserted by the\u001b[0m\u001b[0;34m\u001b[0m\u001b[0;34m\u001b[0m\u001b[0;34m\u001b[0m\u001b[0m\n",
      "\u001b[0;31mRuntimeError\u001b[0m: KeyboardInterrupt: "
     ]
    }
   ],
   "source": [
    "# Set up CUDA in OS\n",
    "import os\n",
    "os.environ['CUDA_LAUNCH_BLOCKING'] = '1'\n",
    "# Import libabries\n",
    "import torch\n",
    "import torch.nn as nn\n",
    "import torch.optim as optim\n",
    "import torch.nn.functional as F\n",
    "import numpy as np\n",
    "import seaborn as sn\n",
    "import pandas as pd\n",
    "import torchvision\n",
    "from torchvision import *\n",
    "from torch.utils.data import Dataset, DataLoader\n",
    "from torchvision.io import read_image\n",
    "import torchvision.transforms as T\n",
    "from torchvision import datasets, models, transforms\n",
    "from sklearn.metrics import accuracy_score, classification_report, confusion_matrix\n",
    "\n",
    "import matplotlib.pyplot as plt\n",
    "import time\n",
    "import copy\n",
    "\n",
    "# Ignore warnings\n",
    "import warnings\n",
    "warnings.filterwarnings(\"ignore\")"
   ]
  },
  {
   "cell_type": "code",
   "execution_count": 2,
   "metadata": {},
   "outputs": [
    {
     "name": "stdout",
     "output_type": "stream",
     "text": [
      "1.10.0\n"
     ]
    }
   ],
   "source": [
    "# Check version of Pytorch\n",
    "print(torch. __version__)"
   ]
  },
  {
   "cell_type": "code",
   "execution_count": 6,
   "metadata": {},
   "outputs": [
    {
     "data": {
      "text/plain": [
       "'cuda'"
      ]
     },
     "execution_count": 6,
     "metadata": {},
     "output_type": "execute_result"
    }
   ],
   "source": [
    "# Setup device agnostic code\n",
    "device = \"cuda\" if torch.cuda.is_available() else \"cpu\"\n",
    "device"
   ]
  },
  {
   "cell_type": "code",
   "execution_count": 7,
   "metadata": {},
   "outputs": [],
   "source": [
    "train_dir = \"../../../DataSet/Transformed - DMR - Database For Mastology Research - Visual Lab/train\"\n",
    "test_dir = \"../../../DataSet/Transformed - DMR - Database For Mastology Research - Visual Lab/test\""
   ]
  },
  {
   "cell_type": "code",
   "execution_count": 8,
   "metadata": {},
   "outputs": [
    {
     "data": {
      "text/plain": [
       "ResNet(\n",
       "  (conv1): Conv2d(3, 64, kernel_size=(7, 7), stride=(2, 2), padding=(3, 3), bias=False)\n",
       "  (bn1): BatchNorm2d(64, eps=1e-05, momentum=0.1, affine=True, track_running_stats=True)\n",
       "  (relu): ReLU(inplace=True)\n",
       "  (maxpool): MaxPool2d(kernel_size=3, stride=2, padding=1, dilation=1, ceil_mode=False)\n",
       "  (layer1): Sequential(\n",
       "    (0): BasicBlock(\n",
       "      (conv1): Conv2d(64, 64, kernel_size=(3, 3), stride=(1, 1), padding=(1, 1), bias=False)\n",
       "      (bn1): BatchNorm2d(64, eps=1e-05, momentum=0.1, affine=True, track_running_stats=True)\n",
       "      (relu): ReLU(inplace=True)\n",
       "      (conv2): Conv2d(64, 64, kernel_size=(3, 3), stride=(1, 1), padding=(1, 1), bias=False)\n",
       "      (bn2): BatchNorm2d(64, eps=1e-05, momentum=0.1, affine=True, track_running_stats=True)\n",
       "    )\n",
       "    (1): BasicBlock(\n",
       "      (conv1): Conv2d(64, 64, kernel_size=(3, 3), stride=(1, 1), padding=(1, 1), bias=False)\n",
       "      (bn1): BatchNorm2d(64, eps=1e-05, momentum=0.1, affine=True, track_running_stats=True)\n",
       "      (relu): ReLU(inplace=True)\n",
       "      (conv2): Conv2d(64, 64, kernel_size=(3, 3), stride=(1, 1), padding=(1, 1), bias=False)\n",
       "      (bn2): BatchNorm2d(64, eps=1e-05, momentum=0.1, affine=True, track_running_stats=True)\n",
       "    )\n",
       "  )\n",
       "  (layer2): Sequential(\n",
       "    (0): BasicBlock(\n",
       "      (conv1): Conv2d(64, 128, kernel_size=(3, 3), stride=(2, 2), padding=(1, 1), bias=False)\n",
       "      (bn1): BatchNorm2d(128, eps=1e-05, momentum=0.1, affine=True, track_running_stats=True)\n",
       "      (relu): ReLU(inplace=True)\n",
       "      (conv2): Conv2d(128, 128, kernel_size=(3, 3), stride=(1, 1), padding=(1, 1), bias=False)\n",
       "      (bn2): BatchNorm2d(128, eps=1e-05, momentum=0.1, affine=True, track_running_stats=True)\n",
       "      (downsample): Sequential(\n",
       "        (0): Conv2d(64, 128, kernel_size=(1, 1), stride=(2, 2), bias=False)\n",
       "        (1): BatchNorm2d(128, eps=1e-05, momentum=0.1, affine=True, track_running_stats=True)\n",
       "      )\n",
       "    )\n",
       "    (1): BasicBlock(\n",
       "      (conv1): Conv2d(128, 128, kernel_size=(3, 3), stride=(1, 1), padding=(1, 1), bias=False)\n",
       "      (bn1): BatchNorm2d(128, eps=1e-05, momentum=0.1, affine=True, track_running_stats=True)\n",
       "      (relu): ReLU(inplace=True)\n",
       "      (conv2): Conv2d(128, 128, kernel_size=(3, 3), stride=(1, 1), padding=(1, 1), bias=False)\n",
       "      (bn2): BatchNorm2d(128, eps=1e-05, momentum=0.1, affine=True, track_running_stats=True)\n",
       "    )\n",
       "  )\n",
       "  (layer3): Sequential(\n",
       "    (0): BasicBlock(\n",
       "      (conv1): Conv2d(128, 256, kernel_size=(3, 3), stride=(2, 2), padding=(1, 1), bias=False)\n",
       "      (bn1): BatchNorm2d(256, eps=1e-05, momentum=0.1, affine=True, track_running_stats=True)\n",
       "      (relu): ReLU(inplace=True)\n",
       "      (conv2): Conv2d(256, 256, kernel_size=(3, 3), stride=(1, 1), padding=(1, 1), bias=False)\n",
       "      (bn2): BatchNorm2d(256, eps=1e-05, momentum=0.1, affine=True, track_running_stats=True)\n",
       "      (downsample): Sequential(\n",
       "        (0): Conv2d(128, 256, kernel_size=(1, 1), stride=(2, 2), bias=False)\n",
       "        (1): BatchNorm2d(256, eps=1e-05, momentum=0.1, affine=True, track_running_stats=True)\n",
       "      )\n",
       "    )\n",
       "    (1): BasicBlock(\n",
       "      (conv1): Conv2d(256, 256, kernel_size=(3, 3), stride=(1, 1), padding=(1, 1), bias=False)\n",
       "      (bn1): BatchNorm2d(256, eps=1e-05, momentum=0.1, affine=True, track_running_stats=True)\n",
       "      (relu): ReLU(inplace=True)\n",
       "      (conv2): Conv2d(256, 256, kernel_size=(3, 3), stride=(1, 1), padding=(1, 1), bias=False)\n",
       "      (bn2): BatchNorm2d(256, eps=1e-05, momentum=0.1, affine=True, track_running_stats=True)\n",
       "    )\n",
       "  )\n",
       "  (layer4): Sequential(\n",
       "    (0): BasicBlock(\n",
       "      (conv1): Conv2d(256, 512, kernel_size=(3, 3), stride=(2, 2), padding=(1, 1), bias=False)\n",
       "      (bn1): BatchNorm2d(512, eps=1e-05, momentum=0.1, affine=True, track_running_stats=True)\n",
       "      (relu): ReLU(inplace=True)\n",
       "      (conv2): Conv2d(512, 512, kernel_size=(3, 3), stride=(1, 1), padding=(1, 1), bias=False)\n",
       "      (bn2): BatchNorm2d(512, eps=1e-05, momentum=0.1, affine=True, track_running_stats=True)\n",
       "      (downsample): Sequential(\n",
       "        (0): Conv2d(256, 512, kernel_size=(1, 1), stride=(2, 2), bias=False)\n",
       "        (1): BatchNorm2d(512, eps=1e-05, momentum=0.1, affine=True, track_running_stats=True)\n",
       "      )\n",
       "    )\n",
       "    (1): BasicBlock(\n",
       "      (conv1): Conv2d(512, 512, kernel_size=(3, 3), stride=(1, 1), padding=(1, 1), bias=False)\n",
       "      (bn1): BatchNorm2d(512, eps=1e-05, momentum=0.1, affine=True, track_running_stats=True)\n",
       "      (relu): ReLU(inplace=True)\n",
       "      (conv2): Conv2d(512, 512, kernel_size=(3, 3), stride=(1, 1), padding=(1, 1), bias=False)\n",
       "      (bn2): BatchNorm2d(512, eps=1e-05, momentum=0.1, affine=True, track_running_stats=True)\n",
       "    )\n",
       "  )\n",
       "  (avgpool): AdaptiveAvgPool2d(output_size=(1, 1))\n",
       "  (fc): Linear(in_features=512, out_features=1000, bias=True)\n",
       ")"
      ]
     },
     "execution_count": 8,
     "metadata": {},
     "output_type": "execute_result"
    }
   ],
   "source": [
    "model_resnet18 = models.resnet18(pretrained=True)\n",
    "model_resnet18"
   ]
  },
  {
   "cell_type": "code",
   "execution_count": 9,
   "metadata": {},
   "outputs": [
    {
     "name": "stdout",
     "output_type": "stream",
     "text": [
      "Number of features from pre-trained model 512\n"
     ]
    }
   ],
   "source": [
    "num_features = model_resnet18.fc.in_features \n",
    "print('Number of features from pre-trained model', num_features)"
   ]
  },
  {
   "cell_type": "code",
   "execution_count": 10,
   "metadata": {},
   "outputs": [],
   "source": [
    "# Add a fully-connected layer for classification\n",
    "model_resnet18.fc = nn.Linear(num_features, 2)\n",
    "model_resnet18 = model_resnet18.to(device)"
   ]
  },
  {
   "cell_type": "code",
   "execution_count": 11,
   "metadata": {},
   "outputs": [],
   "source": [
    "# Define loss and optimizer\n",
    "criterion = nn.CrossEntropyLoss()\n",
    "optimizer = optim.SGD(model_resnet18.parameters(), lr=0.0001, momentum=0.9)"
   ]
  },
  {
   "cell_type": "code",
   "execution_count": 12,
   "metadata": {},
   "outputs": [],
   "source": [
    "# Set the random seeds\n",
    "torch.manual_seed(42)\n",
    "torch.cuda.manual_seed(42)"
   ]
  },
  {
   "cell_type": "code",
   "execution_count": 13,
   "metadata": {},
   "outputs": [],
   "source": [
    "# Create transform function\n",
    "transforms_train = transforms.Compose([\n",
    "    transforms.Resize((224, 224)),   #must same as here\n",
    "    transforms.RandomResizedCrop(224),\n",
    "    transforms.RandomHorizontalFlip(), # data augmentation\n",
    "    transforms.ToTensor(),\n",
    "    transforms.Normalize([0.485, 0.456, 0.406], [0.229, 0.224, 0.225]) # normalization\n",
    "])\n",
    "transforms_test = transforms.Compose([\n",
    "    transforms.Resize((224, 224)),   #must same as here\n",
    "     transforms.CenterCrop((224, 224)),\n",
    "    transforms.ToTensor(),\n",
    "    transforms.Normalize([0.485, 0.456, 0.406], [0.229, 0.224, 0.225])\n",
    "])"
   ]
  },
  {
   "cell_type": "code",
   "execution_count": 14,
   "metadata": {},
   "outputs": [],
   "source": [
    "# Apply for training and test data\n",
    "train_dataset = datasets.ImageFolder(train_dir, transforms_train)\n",
    "test_dataset = datasets.ImageFolder(test_dir, transforms_test)\n",
    "\n",
    "train_dataloader = torch.utils.data.DataLoader(train_dataset, batch_size=12, shuffle=True, num_workers=0)\n",
    "test_dataloader = torch.utils.data.DataLoader(test_dataset, batch_size=12, shuffle=False, num_workers=0)"
   ]
  },
  {
   "cell_type": "code",
   "execution_count": 12,
   "metadata": {},
   "outputs": [
    {
     "name": "stdout",
     "output_type": "stream",
     "text": [
      "Epoch 0 running\n",
      "[Train #1] Loss: 0.0467 Acc: 74.9911% Time: 977.5202s\n",
      "[Test #1] Loss: 0.0462 Acc: 75.4622% Time: 1094.7000s\n",
      "Epoch 1 running\n",
      "[Train #2] Loss: 0.0425 Acc: 76.4161% Time: 1792.1811s\n",
      "[Test #2] Loss: 0.0410 Acc: 75.8824% Time: 1898.5612s\n",
      "Epoch 2 running\n",
      "[Train #3] Loss: 0.0399 Acc: 76.9505% Time: 2613.1351s\n",
      "[Test #3] Loss: 0.0365 Acc: 77.2269% Time: 2722.5305s\n",
      "Epoch 3 running\n",
      "[Train #4] Loss: 0.0379 Acc: 79.6580% Time: 3451.4997s\n",
      "[Test #4] Loss: 0.0328 Acc: 83.7815% Time: 3561.9982s\n",
      "Epoch 4 running\n",
      "[Train #5] Loss: 0.0343 Acc: 81.9024% Time: 4296.5996s\n",
      "[Test #5] Loss: 0.0294 Acc: 84.7059% Time: 4409.7101s\n",
      "Epoch 5 running\n",
      "[Train #6] Loss: 0.0327 Acc: 82.7218% Time: 5160.5843s\n",
      "[Test #6] Loss: 0.0268 Acc: 85.0420% Time: 5275.6342s\n",
      "Epoch 6 running\n",
      "[Train #7] Loss: 0.0301 Acc: 84.0755% Time: 6019.7136s\n",
      "[Test #7] Loss: 0.0243 Acc: 88.0672% Time: 6132.1945s\n",
      "Epoch 7 running\n",
      "[Train #8] Loss: 0.0299 Acc: 84.2893% Time: 6878.7583s\n",
      "[Test #8] Loss: 0.0217 Acc: 88.7395% Time: 6991.6619s\n",
      "Epoch 8 running\n",
      "[Train #9] Loss: 0.0285 Acc: 85.8568% Time: 7742.5619s\n",
      "[Test #9] Loss: 0.0194 Acc: 91.0924% Time: 7855.9489s\n",
      "Epoch 9 running\n",
      "[Train #10] Loss: 0.0283 Acc: 85.7499% Time: 8607.2094s\n",
      "[Test #10] Loss: 0.0182 Acc: 91.7647% Time: 8720.2457s\n",
      "Epoch 10 running\n",
      "[Train #11] Loss: 0.0280 Acc: 84.9662% Time: 9473.0023s\n",
      "[Test #11] Loss: 0.0177 Acc: 91.4286% Time: 9586.4709s\n",
      "Epoch 11 running\n",
      "[Train #12] Loss: 0.0263 Acc: 87.2105% Time: 10343.3210s\n",
      "[Test #12] Loss: 0.0169 Acc: 92.7731% Time: 10457.3806s\n",
      "Epoch 12 running\n",
      "[Train #13] Loss: 0.0243 Acc: 88.5287% Time: 11214.5457s\n",
      "[Test #13] Loss: 0.0164 Acc: 92.5210% Time: 11328.9666s\n",
      "Epoch 13 running\n",
      "[Train #14] Loss: 0.0237 Acc: 87.6024% Time: 12087.8189s\n",
      "[Test #14] Loss: 0.0155 Acc: 92.9412% Time: 12202.8421s\n",
      "Epoch 14 running\n",
      "[Train #15] Loss: 0.0232 Acc: 88.5999% Time: 12964.0687s\n",
      "[Test #15] Loss: 0.0150 Acc: 94.2017% Time: 13079.4816s\n",
      "Epoch 15 running\n",
      "[Train #16] Loss: 0.0224 Acc: 89.1699% Time: 13840.6020s\n",
      "[Test #16] Loss: 0.0154 Acc: 92.9412% Time: 13956.0191s\n",
      "Epoch 16 running\n",
      "[Train #17] Loss: 0.0217 Acc: 89.0631% Time: 14715.6206s\n",
      "[Test #17] Loss: 0.0137 Acc: 93.6975% Time: 14830.5209s\n",
      "Epoch 17 running\n",
      "[Train #18] Loss: 0.0223 Acc: 88.8849% Time: 15588.7997s\n",
      "[Test #18] Loss: 0.0135 Acc: 94.0336% Time: 15703.5704s\n",
      "Epoch 18 running\n",
      "[Train #19] Loss: 0.0211 Acc: 89.6687% Time: 16464.2140s\n",
      "[Test #19] Loss: 0.0133 Acc: 93.7815% Time: 16578.6070s\n",
      "Epoch 19 running\n",
      "[Train #20] Loss: 0.0206 Acc: 89.9537% Time: 17339.5560s\n",
      "[Test #20] Loss: 0.0119 Acc: 94.1176% Time: 17453.9894s\n",
      "Epoch 20 running\n",
      "[Train #21] Loss: 0.0198 Acc: 90.3099% Time: 18210.6167s\n",
      "[Test #21] Loss: 0.0113 Acc: 94.6218% Time: 18326.7104s\n",
      "Epoch 21 running\n",
      "[Train #22] Loss: 0.0202 Acc: 90.2743% Time: 19086.5199s\n",
      "[Test #22] Loss: 0.0116 Acc: 94.1176% Time: 19201.3343s\n",
      "Epoch 22 running\n",
      "[Train #23] Loss: 0.0203 Acc: 89.6331% Time: 19960.5584s\n",
      "[Test #23] Loss: 0.0119 Acc: 94.3697% Time: 20076.1703s\n",
      "Epoch 23 running\n",
      "[Train #24] Loss: 0.0195 Acc: 90.4524% Time: 20836.6050s\n",
      "[Test #24] Loss: 0.0109 Acc: 94.5378% Time: 20950.9300s\n",
      "Epoch 24 running\n",
      "[Train #25] Loss: 0.0181 Acc: 90.2031% Time: 21711.0754s\n",
      "[Test #25] Loss: 0.0110 Acc: 94.3697% Time: 21825.3300s\n",
      "Epoch 25 running\n",
      "[Train #26] Loss: 0.0179 Acc: 91.3787% Time: 22584.8374s\n",
      "[Test #26] Loss: 0.0105 Acc: 94.8739% Time: 22698.9888s\n",
      "Epoch 26 running\n",
      "[Train #27] Loss: 0.0184 Acc: 90.5237% Time: 23452.1704s\n",
      "[Test #27] Loss: 0.0101 Acc: 94.7059% Time: 23566.0706s\n",
      "Epoch 27 running\n",
      "[Train #28] Loss: 0.0181 Acc: 90.2387% Time: 24319.3676s\n",
      "[Test #28] Loss: 0.0102 Acc: 95.3782% Time: 24432.9263s\n",
      "Epoch 28 running\n",
      "[Train #29] Loss: 0.0172 Acc: 92.0200% Time: 25185.2340s\n",
      "[Test #29] Loss: 0.0097 Acc: 95.4622% Time: 25298.1540s\n",
      "Epoch 29 running\n",
      "[Train #30] Loss: 0.0175 Acc: 90.8087% Time: 26049.9623s\n",
      "[Test #30] Loss: 0.0092 Acc: 95.2101% Time: 26163.6440s\n"
     ]
    }
   ],
   "source": [
    "#### Train model\n",
    "train_loss=[]\n",
    "train_accuary=[]\n",
    "test_loss=[]\n",
    "test_accuary=[]\n",
    "\n",
    "num_epochs = 30   #(set no of epochs)\n",
    "start_time = time.time() #(for showing time)\n",
    "# Start loop\n",
    "for epoch in range(num_epochs): #(loop for every epoch)\n",
    "    print(\"Epoch {} running\".format(epoch)) #(printing message)\n",
    "    \"\"\" Training Phase \"\"\"\n",
    "    model_resnet18.train()    #(training model)\n",
    "    running_loss = 0.   #(set loss 0)\n",
    "    running_corrects = 0 \n",
    "    # load a batch data of images\n",
    "    for i, (inputs, labels) in enumerate(train_dataloader):\n",
    "        inputs = inputs.to(device)\n",
    "        labels = labels.to(device) \n",
    "        # forward inputs and get output\n",
    "        optimizer.zero_grad()\n",
    "        outputs = model_resnet18(inputs)\n",
    "        _, preds = torch.max(outputs, 1)\n",
    "        loss = criterion(outputs, labels)\n",
    "        # get loss value and update the network weights\n",
    "        loss.backward()\n",
    "        optimizer.step()\n",
    "        running_loss += loss.item()\n",
    "        running_corrects += torch.sum(preds == labels.data).item()\n",
    "    epoch_loss = running_loss / len(train_dataset)\n",
    "    epoch_acc = running_corrects / len(train_dataset) * 100.\n",
    "    # Append result\n",
    "    train_loss.append(epoch_loss)\n",
    "    train_accuary.append(epoch_acc)\n",
    "    # Print progress\n",
    "    print('[Train #{}] Loss: {:.4f} Acc: {:.4f}% Time: {:.4f}s'.format(epoch+1, epoch_loss, epoch_acc, time.time() -start_time))\n",
    "    \"\"\" Testing Phase \"\"\"\n",
    "    model_resnet18.eval()\n",
    "    with torch.no_grad():\n",
    "        running_loss = 0.\n",
    "        running_corrects = 0\n",
    "        for inputs, labels in test_dataloader:\n",
    "            inputs = inputs.to(device)\n",
    "            labels = labels.to(device)\n",
    "            outputs = model_resnet18(inputs)\n",
    "            _, preds = torch.max(outputs, 1)\n",
    "            loss = criterion(outputs, labels)\n",
    "            running_loss += loss.item()\n",
    "            running_corrects += torch.sum(preds == labels.data).item()\n",
    "        epoch_loss = running_loss / len(test_dataset)\n",
    "        epoch_acc = running_corrects / len(test_dataset) * 100.\n",
    "        # Append result\n",
    "        test_loss.append(epoch_loss)\n",
    "        test_accuary.append(epoch_acc)\n",
    "        # Print progress\n",
    "        print('[Test #{}] Loss: {:.4f} Acc: {:.4f}% Time: {:.4f}s'.format(epoch+1, epoch_loss, epoch_acc, time.time()- start_time))"
   ]
  },
  {
   "cell_type": "code",
   "execution_count": 13,
   "metadata": {},
   "outputs": [],
   "source": [
    "save_path = 'models/breast_thermo_cancer-classifier_resnet_18_final.pth'\n",
    "torch.save(model_resnet18.state_dict(), save_path) #model_resnet18"
   ]
  },
  {
   "cell_type": "code",
   "execution_count": 14,
   "metadata": {},
   "outputs": [
    {
     "data": {
      "image/png": "[encoded data removed]",
      "text/plain": [
       "<Figure size 432x432 with 1 Axes>"
      ]
     },
     "metadata": {
      "needs_background": "light"
     },
     "output_type": "display_data"
    }
   ],
   "source": [
    "# Plot\n",
    "plt.figure(figsize=(6,6))\n",
    "plt.plot(np.arange(1,num_epochs+1), train_accuary,'-o')\n",
    "plt.plot(np.arange(1,num_epochs+1), test_accuary,'-o')\n",
    "plt.xlabel('Epoch')\n",
    "plt.ylabel('Accuracy')\n",
    "plt.legend(['Train','Test'])\n",
    "plt.title('Train vs Test Accuracy over time')\n",
    "plt.show()"
   ]
  },
  {
   "cell_type": "code",
   "execution_count": 16,
   "metadata": {},
   "outputs": [],
   "source": [
    "# Get data to check on the performance of each label\n",
    "y_pred = []\n",
    "y_true = []\n",
    "\n",
    "\n",
    "num_epochs = 30   #(set no of epochs)\n",
    "start_time = time.time() #(for showing time)\n",
    "# Start loop\n",
    "for epoch in range(num_epochs): #(loop for every epoch)\n",
    "    model_resnet18.eval()\n",
    "    with torch.no_grad():\n",
    "        for inputs, labels in test_dataloader:\n",
    "            inputs = inputs.to(device)\n",
    "            labels = labels.to(device)\n",
    "            outputs = model_resnet18(inputs) # Feed Network\n",
    "            outputs = (torch.max(torch.exp(outputs), 1)[1]).data.cpu().numpy()\n",
    "            y_pred.extend(outputs) # Save Prediction\n",
    "            labels = labels.data.cpu().numpy()\n",
    "            y_true.extend(labels) # Save Truth"
   ]
  },
  {
   "cell_type": "code",
   "execution_count": 17,
   "metadata": {},
   "outputs": [
    {
     "name": "stdout",
     "output_type": "stream",
     "text": [
      "Accuracy on Training set:  0.9521008403361344\n",
      "Confusion matrix: \n",
      " [[26280   600]\n",
      " [ 1110  7710]]\n",
      "Classification report: \n",
      "               precision    recall  f1-score   support\n",
      "\n",
      "           0       0.96      0.98      0.97     26880\n",
      "           1       0.93      0.87      0.90      8820\n",
      "\n",
      "    accuracy                           0.95     35700\n",
      "   macro avg       0.94      0.93      0.93     35700\n",
      "weighted avg       0.95      0.95      0.95     35700\n",
      "\n"
     ]
    },
    {
     "data": {
      "text/plain": [
       "<AxesSubplot:title={'center':'Confusion matrix for Breast Cancer classification '}>"
      ]
     },
     "execution_count": 17,
     "metadata": {},
     "output_type": "execute_result"
    },
    {
     "data": {
      "image/png": "[encoded data removed]",
      "text/plain": [
       "<Figure size 504x504 with 2 Axes>"
      ]
     },
     "metadata": {
      "needs_background": "light"
     },
     "output_type": "display_data"
    }
   ],
   "source": [
    "# Visualization and result\n",
    "# constant for classes\n",
    "classes = test_dataset.classes\n",
    "# Build confusion matrix\n",
    "print(\"Accuracy on Training set: \",accuracy_score(y_true, y_pred))\n",
    "print('Confusion matrix: \\n', confusion_matrix(y_true, y_pred))\n",
    "print('Classification report: \\n', classification_report(y_true, y_pred))\n",
    "# Plot\n",
    "cf_matrix = confusion_matrix(y_true, y_pred)\n",
    "df_cm = pd.DataFrame(cf_matrix, index = [i for i in classes], columns = [i for i in classes])\n",
    "plt.figure(figsize = (7,7))\n",
    "plt.title(\"Confusion matrix for Breast Cancer classification \")\n",
    "sn.heatmap(df_cm, annot=True)"
   ]
  },
  {
   "cell_type": "markdown",
   "metadata": {},
   "source": [
    "# Load your saved model"
   ]
  },
  {
   "cell_type": "code",
   "execution_count": null,
   "metadata": {},
   "outputs": [],
   "source": [
    "import torch\n",
    "import torch.nn as nn\n",
    "import torch.optim as optim\n",
    "import torch.nn.functional as F\n",
    "import numpy as np\n",
    "#import seaborn as sn\n",
    "import pandas as pd\n",
    "import torchvision\n",
    "from torchvision import *\n",
    "from torch.utils.data import Dataset, DataLoader\n",
    "from torchvision.io import read_image\n",
    "import torchvision.transforms as T\n",
    "from torchvision import datasets, models, transforms\n",
    "#from sklearn.metrics import accuracy_score, classification_report, confusion_matrix"
   ]
  },
  {
   "cell_type": "code",
   "execution_count": null,
   "metadata": {},
   "outputs": [],
   "source": [
    "device = \"cuda\" if torch.cuda.is_available() else \"cpu\"\n",
    "model_resnet18 = models.resnet18(pretrained=True)\n",
    "num_features = model_resnet18.fc.in_features \n",
    "# Add a fully-connected layer for classification\n",
    "model_resnet18.fc = nn.Linear(num_features, 2)\n",
    "model_resnet18 = model_resnet18.to(device)\n",
    "# Define loss and optimizer\n",
    "criterion = nn.CrossEntropyLoss()\n",
    "optimizer = optim.SGD(model_resnet18.parameters(), lr=0.0001, momentum=0.9)\n",
    "# Set the random seeds\n",
    "torch.manual_seed(42)\n",
    "torch.cuda.manual_seed(42)\n",
    "\n",
    "model_resnet18.load_state_dict(torch.load('models/breast_thermo_cancer-classifier_resnet_18_final.pth'))"
   ]
  },
  {
   "cell_type": "code",
   "execution_count": null,
   "metadata": {},
   "outputs": [],
   "source": []
  }
 ],
 "metadata": {
  "kernelspec": {
   "display_name": "jupyter",
   "language": "python",
   "name": "python3"
  },
  "language_info": {
   "codemirror_mode": {
    "name": "ipython",
    "version": 3
   },
   "file_extension": ".py",
   "mimetype": "text/x-python",
   "name": "python",
   "nbconvert_exporter": "python",
   "pygments_lexer": "ipython3",
   "version": "3.6.15"
  }
 },
 "nbformat": 4,
 "nbformat_minor": 2
}
