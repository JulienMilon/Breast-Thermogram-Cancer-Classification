{
 "cells": [
  {
   "cell_type": "markdown",
   "metadata": {},
   "source": [
    "# Split images \n",
    "\n",
    "Split images with 70% of the images for **Training** (**70% of the helthy and 70% of the sick**) and 30% for **Test** (**30% of the helthy and 30% of the sick**)"
   ]
  },
  {
   "cell_type": "code",
   "execution_count": 2,
   "metadata": {},
   "outputs": [],
   "source": [
    "import cv2 as cv2\n",
    "from PIL import Image\n",
    "import numpy as np\n",
    "import os\n",
    "from matplotlib import pyplot as plt\n",
    "import random"
   ]
  },
  {
   "cell_type": "code",
   "execution_count": 17,
   "metadata": {},
   "outputs": [],
   "source": [
    "input_path = \"../../../DataSet/Transformed - DMR - Database For Mastology Research - Visual Lab/Healthy/\"\n",
    "output_path = \"../../../DataSet/Transformed - DMR - Database For Mastology Research - Visual Lab/\"\n",
    "\n",
    "train_num = 0\n",
    "test_num = 0\n",
    "tot = 0\n",
    "\n",
    "for name in os.listdir(input_path):\n",
    "    #print(name)\n",
    "    image = cv2.imread(input_path + name, 0)\n",
    "    \n",
    "    if(random.random() < 0.7):\n",
    "        train_num += 1\n",
    "        tot += 1\n",
    "        cv2.imwrite(output_path + \"train/Healthy/\" + name, image)\n",
    "    \n",
    "    else:\n",
    "        test_num += 1\n",
    "        tot += 1\n",
    "        cv2.imwrite(output_path + \"test/Healthy/\" + name, image)"
   ]
  },
  {
   "cell_type": "code",
   "execution_count": 18,
   "metadata": {},
   "outputs": [
    {
     "data": {
      "text/plain": [
       "2110"
      ]
     },
     "execution_count": 18,
     "metadata": {},
     "output_type": "execute_result"
    }
   ],
   "source": [
    "train_num"
   ]
  },
  {
   "cell_type": "code",
   "execution_count": 19,
   "metadata": {},
   "outputs": [
    {
     "data": {
      "text/plain": [
       "914"
      ]
     },
     "execution_count": 19,
     "metadata": {},
     "output_type": "execute_result"
    }
   ],
   "source": [
    "test_num"
   ]
  },
  {
   "cell_type": "code",
   "execution_count": 20,
   "metadata": {},
   "outputs": [
    {
     "data": {
      "text/plain": [
       "3024"
      ]
     },
     "execution_count": 20,
     "metadata": {},
     "output_type": "execute_result"
    }
   ],
   "source": [
    "tot"
   ]
  },
  {
   "cell_type": "code",
   "execution_count": 21,
   "metadata": {},
   "outputs": [],
   "source": [
    "input_path = \"../../../DataSet/Transformed - DMR - Database For Mastology Research - Visual Lab/Sick/\"\n",
    "output_path = \"../../../DataSet/Transformed - DMR - Database For Mastology Research - Visual Lab/\"\n",
    "\n",
    "train_sick_num = 0\n",
    "test_sick_num = 0\n",
    "tot_sick = 0\n",
    "\n",
    "for name in os.listdir(input_path):\n",
    "    #print(name)\n",
    "    image = cv2.imread(input_path + name, 0)\n",
    "    \n",
    "    if(random.random() < 0.7):\n",
    "        train_sick_num += 1\n",
    "        tot_sick += 1\n",
    "        cv2.imwrite(output_path + \"train/Sick/\" + name, image)\n",
    "    \n",
    "    else:\n",
    "        test_sick_num += 1\n",
    "        tot_sick += 1\n",
    "        cv2.imwrite(output_path + \"test/Sick/\" + name, image)"
   ]
  },
  {
   "cell_type": "code",
   "execution_count": 22,
   "metadata": {},
   "outputs": [
    {
     "data": {
      "text/plain": [
       "675"
      ]
     },
     "execution_count": 22,
     "metadata": {},
     "output_type": "execute_result"
    }
   ],
   "source": [
    "train_sick_num"
   ]
  },
  {
   "cell_type": "code",
   "execution_count": 23,
   "metadata": {},
   "outputs": [
    {
     "data": {
      "text/plain": [
       "298"
      ]
     },
     "execution_count": 23,
     "metadata": {},
     "output_type": "execute_result"
    }
   ],
   "source": [
    "test_sick_num"
   ]
  },
  {
   "cell_type": "code",
   "execution_count": 24,
   "metadata": {},
   "outputs": [
    {
     "data": {
      "text/plain": [
       "973"
      ]
     },
     "execution_count": 24,
     "metadata": {},
     "output_type": "execute_result"
    }
   ],
   "source": [
    "tot_sick"
   ]
  }
 ],
 "metadata": {
  "kernelspec": {
   "display_name": "jupyter",
   "language": "python",
   "name": "python3"
  },
  "language_info": {
   "codemirror_mode": {
    "name": "ipython",
    "version": 3
   },
   "file_extension": ".py",
   "mimetype": "text/x-python",
   "name": "python",
   "nbconvert_exporter": "python",
   "pygments_lexer": "ipython3",
   "version": "3.6.15"
  }
 },
 "nbformat": 4,
 "nbformat_minor": 2
}
