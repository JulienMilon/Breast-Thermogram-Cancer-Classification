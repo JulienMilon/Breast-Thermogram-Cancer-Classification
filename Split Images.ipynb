{
 "cells": [
  {
   "cell_type": "markdown",
   "metadata": {},
   "source": [
    "# Split images \n",
    "\n",
    "Split images with 70% of the images for **Training** (**70% of the helthy and 70% of the sick**) and 30% for **Test** (**30% of the helthy and 30% of the sick**)"
   ]
  },
  {
   "cell_type": "code",
   "execution_count": 1,
   "metadata": {},
   "outputs": [],
   "source": [
    "import cv2 as cv2\n",
    "from PIL import Image\n",
    "import numpy as np\n",
    "import os\n",
    "from matplotlib import pyplot as plt\n",
    "import random"
   ]
  },
  {
   "cell_type": "code",
   "execution_count": null,
   "metadata": {},
   "outputs": [],
   "source": [
    "input_path = \"../../../DataSet/Transformed - DMR - Database For Mastology Research - Visual Lab/Healthy/\"\n",
    "output_path = \"../../../DataSet/Transformed - DMR - Database For Mastology Research - Visual Lab/\"\n",
    "\n",
    "train_num = 0\n",
    "test_num = 0\n",
    "tot = 0\n",
    "\n",
    "for name in os.listdir(input_path):\n",
    "    #print(name)\n",
    "    image = cv2.imread(input_path + name, 0)\n",
    "    \n",
    "    if(random() < 0.7):\n",
    "        train_num =+ 1\n",
    "        tot =+ 1\n",
    "        #cv2.imwrite(output_path + \"train/Healthy/\" + name, image)\n",
    "    \n",
    "    else:\n",
    "        train_num =+ 1\n",
    "        tot =+ 1\n",
    "        #cv2.imwrite(output_path + \"train/Healthy/\" + name, image)"
   ]
  },
  {
   "cell_type": "code",
   "execution_count": null,
   "metadata": {},
   "outputs": [],
   "source": []
  },
  {
   "cell_type": "code",
   "execution_count": null,
   "metadata": {},
   "outputs": [],
   "source": []
  }
 ],
 "metadata": {
  "kernelspec": {
   "display_name": "jupyter",
   "language": "python",
   "name": "python3"
  },
  "language_info": {
   "codemirror_mode": {
    "name": "ipython",
    "version": 3
   },
   "file_extension": ".py",
   "mimetype": "text/x-python",
   "name": "python",
   "nbconvert_exporter": "python",
   "pygments_lexer": "ipython3",
   "version": "3.6.15"
  }
 },
 "nbformat": 4,
 "nbformat_minor": 2
}
