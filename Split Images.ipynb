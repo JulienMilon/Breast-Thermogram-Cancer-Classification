{
 "cells": [
  {
   "cell_type": "markdown",
   "metadata": {},
   "source": [
    "# Split images \n",
    "\n",
    "Split images with 70% of the images for **Training** (**70% of the helthy and 70% of the sick**) and 30% for **Test** (**30% of the helthy and 30% of the sick**)"
   ]
  },
  {
   "cell_type": "code",
   "execution_count": 1,
   "metadata": {},
   "outputs": [],
   "source": [
    "import cv2 as cv2\n",
    "from PIL import Image\n",
    "import numpy as np\n",
    "import os\n",
    "from matplotlib import pyplot as plt\n",
    "import random"
   ]
  },
  {
   "cell_type": "code",
   "execution_count": 3,
   "metadata": {},
   "outputs": [],
   "source": [
    "input_path = \"../../../DataSet/Transformed - DMR - Database For Mastology Research - Visual Lab/Healthy/\"\n",
    "output_path = \"../../../DataSet/Transformed - DMR - Database For Mastology Research - Visual Lab/\"\n",
    "\n",
    "train_num = 0\n",
    "test_num = 0\n",
    "tot = 0\n",
    "\n",
    "for name in os.listdir(input_path):\n",
    "    #print(name)\n",
    "    image = cv2.imread(input_path + name, 0)\n",
    "    \n",
    "    if(random.random() < 0.7):\n",
    "        train_num += 1\n",
    "        tot += 1\n",
    "        cv2.imwrite(output_path + \"train/Healthy/\" + name, image)\n",
    "    \n",
    "    else:\n",
    "        test_num += 1\n",
    "        tot += 1\n",
    "        cv2.imwrite(output_path + \"test/Healthy/\" + name, image)"
   ]
  },
  {
   "cell_type": "code",
   "execution_count": 6,
   "metadata": {},
   "outputs": [
    {
     "name": "stdout",
     "output_type": "stream",
     "text": [
      "Healthy images in train : 2128\n",
      "Healthy images in test : 896\n",
      "Total : 3024\n",
      "0.7037037037037037\n"
     ]
    }
   ],
   "source": [
    "print(\"Healthy images in train : \" + str(train_num))\n",
    "print(\"Healthy images in test : \" + str(test_num))\n",
    "print(\"Total : \" + str(tot))\n",
    "print(train_num / tot)"
   ]
  },
  {
   "cell_type": "code",
   "execution_count": 7,
   "metadata": {},
   "outputs": [],
   "source": [
    "input_path = \"../../../DataSet/Transformed - DMR - Database For Mastology Research - Visual Lab/Sick/\"\n",
    "output_path = \"../../../DataSet/Transformed - DMR - Database For Mastology Research - Visual Lab/\"\n",
    "\n",
    "train_sick_num = 0\n",
    "test_sick_num = 0\n",
    "tot_sick = 0\n",
    "\n",
    "for name in os.listdir(input_path):\n",
    "    #print(name)\n",
    "    image = cv2.imread(input_path + name, 0)\n",
    "    \n",
    "    if(random.random() < 0.7):\n",
    "        train_sick_num += 1\n",
    "        tot_sick += 1\n",
    "        cv2.imwrite(output_path + \"train/Sick/\" + name, image)\n",
    "    \n",
    "    else:\n",
    "        test_sick_num += 1\n",
    "        tot_sick += 1\n",
    "        cv2.imwrite(output_path + \"test/Sick/\" + name, image)"
   ]
  },
  {
   "cell_type": "code",
   "execution_count": 8,
   "metadata": {},
   "outputs": [
    {
     "name": "stdout",
     "output_type": "stream",
     "text": [
      "Sick images in train : 679\n",
      "Sick images in test : 294\n",
      "Total : 973\n",
      "0.697841726618705\n"
     ]
    }
   ],
   "source": [
    "print(\"Sick images in train : \" + str(train_sick_num))\n",
    "print(\"Sick images in test : \" + str(test_sick_num))\n",
    "print(\"Total : \" + str(tot_sick))\n",
    "print(train_sick_num / tot_sick)"
   ]
  }
 ],
 "metadata": {
  "kernelspec": {
   "display_name": "jupyter",
   "language": "python",
   "name": "python3"
  },
  "language_info": {
   "codemirror_mode": {
    "name": "ipython",
    "version": 3
   },
   "file_extension": ".py",
   "mimetype": "text/x-python",
   "name": "python",
   "nbconvert_exporter": "python",
   "pygments_lexer": "ipython3",
   "version": "3.6.15"
  }
 },
 "nbformat": 4,
 "nbformat_minor": 2
}
